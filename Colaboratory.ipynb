{
  "nbformat": 4,
  "nbformat_minor": 0,
  "metadata": {
    "colab": {
      "name": "Colaboratory へようこそ",
      "provenance": [],
      "collapsed_sections": [],
      "toc_visible": true,
      "include_colab_link": true
    },
    "kernelspec": {
      "display_name": "Python 3",
      "name": "python3"
    }
  },
  "cells": [
    {
      "cell_type": "markdown",
      "metadata": {
        "id": "view-in-github",
        "colab_type": "text"
      },
      "source": [
        "<a href=\"https://colab.research.google.com/github/term3/Python_tutorial/blob/master/Colaboratory.ipynb\" target=\"_parent\"><img src=\"https://colab.research.google.com/assets/colab-badge.svg\" alt=\"Open In Colab\"/></a>"
      ]
    },
    {
      "cell_type": "markdown",
      "metadata": {
        "id": "o0bUJp41aIxt",
        "colab_type": "text"
      },
      "source": [
        "## 1. Python 入門\n",
        "\n",
        "・データ解析や機械学習によく使われている\n",
        "\n",
        "・Web アプリケーションの開発などでもよく使われている\n",
        "\n",
        "・初学者が始めやすい言語\n",
        "\n",
        "## 2. 文法とアルゴリズム"
      ]
    }
  ]
}